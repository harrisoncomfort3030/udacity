{
 "cells": [
  {
   "cell_type": "markdown",
   "metadata": {},
   "source": [
    "# Airbnb Data Science Project"
   ]
  },
  {
   "cell_type": "markdown",
   "metadata": {},
   "source": [
    "### 3 Questions to explore:\n",
    "\n",
    "- What neighborhoods have the best value for money?\n",
    "- What factors impact price per lodging?\n",
    "- What factors impact rating on lodgings?"
   ]
  },
  {
   "cell_type": "code",
   "execution_count": 433,
   "metadata": {},
   "outputs": [
    {
     "name": "stdout",
     "output_type": "stream",
     "text": [
      "<class 'pandas.core.frame.DataFrame'>\n",
      "RangeIndex: 3585 entries, 0 to 3584\n",
      "Data columns (total 95 columns):\n",
      " #   Column                            Non-Null Count  Dtype  \n",
      "---  ------                            --------------  -----  \n",
      " 0   id                                3585 non-null   int64  \n",
      " 1   listing_url                       3585 non-null   object \n",
      " 2   scrape_id                         3585 non-null   int64  \n",
      " 3   last_scraped                      3585 non-null   object \n",
      " 4   name                              3585 non-null   object \n",
      " 5   summary                           3442 non-null   object \n",
      " 6   space                             2528 non-null   object \n",
      " 7   description                       3585 non-null   object \n",
      " 8   experiences_offered               3585 non-null   object \n",
      " 9   neighborhood_overview             2170 non-null   object \n",
      " 10  notes                             1610 non-null   object \n",
      " 11  transit                           2295 non-null   object \n",
      " 12  access                            2096 non-null   object \n",
      " 13  interaction                       2031 non-null   object \n",
      " 14  house_rules                       2393 non-null   object \n",
      " 15  thumbnail_url                     2986 non-null   object \n",
      " 16  medium_url                        2986 non-null   object \n",
      " 17  picture_url                       3585 non-null   object \n",
      " 18  xl_picture_url                    2986 non-null   object \n",
      " 19  host_id                           3585 non-null   int64  \n",
      " 20  host_url                          3585 non-null   object \n",
      " 21  host_name                         3585 non-null   object \n",
      " 22  host_since                        3585 non-null   object \n",
      " 23  host_location                     3574 non-null   object \n",
      " 24  host_about                        2276 non-null   object \n",
      " 25  host_response_time                3114 non-null   object \n",
      " 26  host_response_rate                3114 non-null   object \n",
      " 27  host_acceptance_rate              3114 non-null   object \n",
      " 28  host_is_superhost                 3585 non-null   object \n",
      " 29  host_thumbnail_url                3585 non-null   object \n",
      " 30  host_picture_url                  3585 non-null   object \n",
      " 31  host_neighbourhood                3246 non-null   object \n",
      " 32  host_listings_count               3585 non-null   int64  \n",
      " 33  host_total_listings_count         3585 non-null   int64  \n",
      " 34  host_verifications                3585 non-null   object \n",
      " 35  host_has_profile_pic              3585 non-null   object \n",
      " 36  host_identity_verified            3585 non-null   object \n",
      " 37  street                            3585 non-null   object \n",
      " 38  neighbourhood                     3042 non-null   object \n",
      " 39  neighbourhood_cleansed            3585 non-null   object \n",
      " 40  neighbourhood_group_cleansed      0 non-null      float64\n",
      " 41  city                              3583 non-null   object \n",
      " 42  state                             3585 non-null   object \n",
      " 43  zipcode                           3547 non-null   object \n",
      " 44  market                            3571 non-null   object \n",
      " 45  smart_location                    3585 non-null   object \n",
      " 46  country_code                      3585 non-null   object \n",
      " 47  country                           3585 non-null   object \n",
      " 48  latitude                          3585 non-null   float64\n",
      " 49  longitude                         3585 non-null   float64\n",
      " 50  is_location_exact                 3585 non-null   object \n",
      " 51  property_type                     3582 non-null   object \n",
      " 52  room_type                         3585 non-null   object \n",
      " 53  accommodates                      3585 non-null   int64  \n",
      " 54  bathrooms                         3571 non-null   float64\n",
      " 55  bedrooms                          3575 non-null   float64\n",
      " 56  beds                              3576 non-null   float64\n",
      " 57  bed_type                          3585 non-null   object \n",
      " 58  amenities                         3585 non-null   object \n",
      " 59  square_feet                       56 non-null     float64\n",
      " 60  price                             3585 non-null   object \n",
      " 61  weekly_price                      892 non-null    object \n",
      " 62  monthly_price                     888 non-null    object \n",
      " 63  security_deposit                  1342 non-null   object \n",
      " 64  cleaning_fee                      2478 non-null   object \n",
      " 65  guests_included                   3585 non-null   int64  \n",
      " 66  extra_people                      3585 non-null   object \n",
      " 67  minimum_nights                    3585 non-null   int64  \n",
      " 68  maximum_nights                    3585 non-null   int64  \n",
      " 69  calendar_updated                  3585 non-null   object \n",
      " 70  has_availability                  0 non-null      float64\n",
      " 71  availability_30                   3585 non-null   int64  \n",
      " 72  availability_60                   3585 non-null   int64  \n",
      " 73  availability_90                   3585 non-null   int64  \n",
      " 74  availability_365                  3585 non-null   int64  \n",
      " 75  calendar_last_scraped             3585 non-null   object \n",
      " 76  number_of_reviews                 3585 non-null   int64  \n",
      " 77  first_review                      2829 non-null   object \n",
      " 78  last_review                       2829 non-null   object \n",
      " 79  review_scores_rating              2772 non-null   float64\n",
      " 80  review_scores_accuracy            2762 non-null   float64\n",
      " 81  review_scores_cleanliness         2767 non-null   float64\n",
      " 82  review_scores_checkin             2765 non-null   float64\n",
      " 83  review_scores_communication       2767 non-null   float64\n",
      " 84  review_scores_location            2763 non-null   float64\n",
      " 85  review_scores_value               2764 non-null   float64\n",
      " 86  requires_license                  3585 non-null   object \n",
      " 87  license                           0 non-null      float64\n",
      " 88  jurisdiction_names                0 non-null      float64\n",
      " 89  instant_bookable                  3585 non-null   object \n",
      " 90  cancellation_policy               3585 non-null   object \n",
      " 91  require_guest_profile_picture     3585 non-null   object \n",
      " 92  require_guest_phone_verification  3585 non-null   object \n",
      " 93  calculated_host_listings_count    3585 non-null   int64  \n",
      " 94  reviews_per_month                 2829 non-null   float64\n",
      "dtypes: float64(18), int64(15), object(62)\n",
      "memory usage: 2.6+ MB\n"
     ]
    }
   ],
   "source": [
    "import numpy as np\n",
    "import pandas as pd\n",
    "import matplotlib.pyplot as plt\n",
    "import seaborn as sns\n",
    "from sklearn.model_selection import train_test_split\n",
    "from sklearn.linear_model import LinearRegression\n",
    "from sklearn.metrics import r2_score, mean_squared_error\n",
    "%matplotlib inline\n",
    "\n",
    "listings = pd.read_csv('listings.csv')\n",
    "listings_2 = listings.copy()\n",
    "listings_2.info()\n"
   ]
  },
  {
   "cell_type": "markdown",
   "metadata": {},
   "source": [
    "#### First Question: What neighborhoods have the best ratings relative to price?"
   ]
  },
  {
   "cell_type": "code",
   "execution_count": 434,
   "metadata": {},
   "outputs": [
    {
     "data": {
      "text/plain": [
       "<class 'str'>    3585\n",
       "Name: price, dtype: int64"
      ]
     },
     "execution_count": 434,
     "metadata": {},
     "output_type": "execute_result"
    }
   ],
   "source": [
    "#first we need to clean up the price column... it looks like a lot of the price column entries are objects\n",
    "#consluted this site: https://pbpython.com/currency-cleanup.html\n",
    "\n",
    "listings_2['price'].apply(type).value_counts()\n",
    "\n",
    "#good news... we confirmed that they are all strings and we dont have a situtation where there is a mix in entries...\n",
    "#so we are dealing with all strings... \n"
   ]
  },
  {
   "cell_type": "code",
   "execution_count": 435,
   "metadata": {},
   "outputs": [],
   "source": [
    "#remove strange commas and currency symbols from entries and convert the string objects to floats\n",
    "def clean_price_column(df, column='price'):\n",
    "    df[column] = df[column].str.replace(',','')\n",
    "    df[column] = df[column].str.replace('$','')\n",
    "    df[column] = df[column].astype('float')\n",
    "\n",
    "clean_price_column(listings_2)\n",
    "\n"
   ]
  },
  {
   "cell_type": "code",
   "execution_count": 436,
   "metadata": {},
   "outputs": [
    {
     "data": {
      "text/plain": [
       "count    3585.000000\n",
       "mean      173.925802\n",
       "std       148.331321\n",
       "min        10.000000\n",
       "25%        85.000000\n",
       "50%       150.000000\n",
       "75%       220.000000\n",
       "max      4000.000000\n",
       "Name: price, dtype: float64"
      ]
     },
     "execution_count": 436,
     "metadata": {},
     "output_type": "execute_result"
    }
   ],
   "source": [
    "#check to make sure that the new price column is how we'd like it to be...\n",
    "listings_2['price'].describe()\n"
   ]
  },
  {
   "cell_type": "code",
   "execution_count": 437,
   "metadata": {},
   "outputs": [
    {
     "name": "stdout",
     "output_type": "stream",
     "text": [
      "<class 'pandas.core.frame.DataFrame'>\n",
      "RangeIndex: 3585 entries, 0 to 3584\n",
      "Data columns (total 4 columns):\n",
      " #   Column                  Non-Null Count  Dtype  \n",
      "---  ------                  --------------  -----  \n",
      " 0   neighbourhood_cleansed  3585 non-null   object \n",
      " 1   price                   3585 non-null   float64\n",
      " 2   review_scores_rating    2772 non-null   float64\n",
      " 3   number_of_reviews       3585 non-null   int64  \n",
      "dtypes: float64(2), int64(1), object(1)\n",
      "memory usage: 112.2+ KB\n"
     ]
    }
   ],
   "source": [
    "#create a simpler df to help answer the first question\n",
    "neighborhoods = listings_2[['neighbourhood_cleansed','price', 'review_scores_rating','number_of_reviews']]\n",
    "neighborhoods.info(5)"
   ]
  },
  {
   "cell_type": "code",
   "execution_count": 438,
   "metadata": {},
   "outputs": [
    {
     "name": "stdout",
     "output_type": "stream",
     "text": [
      "<class 'pandas.core.frame.DataFrame'>\n",
      "Int64Index: 3585 entries, 0 to 3584\n",
      "Data columns (total 4 columns):\n",
      " #   Column                  Non-Null Count  Dtype  \n",
      "---  ------                  --------------  -----  \n",
      " 0   neighbourhood_cleansed  3585 non-null   object \n",
      " 1   price                   3585 non-null   float64\n",
      " 2   review_scores_rating    2772 non-null   float64\n",
      " 3   number_of_reviews       3585 non-null   int64  \n",
      "dtypes: float64(2), int64(1), object(1)\n",
      "memory usage: 140.0+ KB\n"
     ]
    }
   ],
   "source": [
    "#remove nans from host neighborhood\n",
    "neighborhoods = neighborhoods.dropna(subset=['neighbourhood_cleansed'],axis=0)\n",
    "neighborhoods.info()"
   ]
  },
  {
   "cell_type": "code",
   "execution_count": 439,
   "metadata": {},
   "outputs": [
    {
     "data": {
      "text/plain": [
       "count          25\n",
       "unique         25\n",
       "top       Allston\n",
       "freq            1\n",
       "Name: neighbourhood_cleansed, dtype: object"
      ]
     },
     "execution_count": 439,
     "metadata": {},
     "output_type": "execute_result"
    }
   ],
   "source": [
    "#we probably shouldn't include neighborhoods that don't meet a minimum threshold of reviews, say 100..\n",
    "a = neighborhoods.groupby('neighbourhood_cleansed').number_of_reviews.sum()\n",
    "b = pd.DataFrame(a).reset_index()\n",
    "b['neighbourhood_cleansed'].describe()"
   ]
  },
  {
   "cell_type": "code",
   "execution_count": 440,
   "metadata": {},
   "outputs": [
    {
     "data": {
      "text/html": [
       "<div>\n",
       "<style scoped>\n",
       "    .dataframe tbody tr th:only-of-type {\n",
       "        vertical-align: middle;\n",
       "    }\n",
       "\n",
       "    .dataframe tbody tr th {\n",
       "        vertical-align: top;\n",
       "    }\n",
       "\n",
       "    .dataframe thead th {\n",
       "        text-align: right;\n",
       "    }\n",
       "</style>\n",
       "<table border=\"1\" class=\"dataframe\">\n",
       "  <thead>\n",
       "    <tr style=\"text-align: right;\">\n",
       "      <th></th>\n",
       "      <th>neighbourhood_cleansed</th>\n",
       "      <th>price</th>\n",
       "      <th>review_scores_rating</th>\n",
       "      <th>number_of_reviews</th>\n",
       "    </tr>\n",
       "  </thead>\n",
       "  <tbody>\n",
       "    <tr>\n",
       "      <th>0</th>\n",
       "      <td>Leather District</td>\n",
       "      <td>253.600000</td>\n",
       "      <td>98.333333</td>\n",
       "      <td>69</td>\n",
       "    </tr>\n",
       "    <tr>\n",
       "      <th>1</th>\n",
       "      <td>Roslindale</td>\n",
       "      <td>98.428571</td>\n",
       "      <td>95.380000</td>\n",
       "      <td>1387</td>\n",
       "    </tr>\n",
       "    <tr>\n",
       "      <th>2</th>\n",
       "      <td>West Roxbury</td>\n",
       "      <td>107.108696</td>\n",
       "      <td>95.212121</td>\n",
       "      <td>690</td>\n",
       "    </tr>\n",
       "    <tr>\n",
       "      <th>3</th>\n",
       "      <td>South Boston Waterfront</td>\n",
       "      <td>306.060241</td>\n",
       "      <td>94.431034</td>\n",
       "      <td>744</td>\n",
       "    </tr>\n",
       "    <tr>\n",
       "      <th>4</th>\n",
       "      <td>Jamaica Plain</td>\n",
       "      <td>138.478134</td>\n",
       "      <td>94.159322</td>\n",
       "      <td>9055</td>\n",
       "    </tr>\n",
       "  </tbody>\n",
       "</table>\n",
       "</div>"
      ],
      "text/plain": [
       "    neighbourhood_cleansed       price  review_scores_rating  \\\n",
       "0         Leather District  253.600000             98.333333   \n",
       "1               Roslindale   98.428571             95.380000   \n",
       "2             West Roxbury  107.108696             95.212121   \n",
       "3  South Boston Waterfront  306.060241             94.431034   \n",
       "4            Jamaica Plain  138.478134             94.159322   \n",
       "\n",
       "   number_of_reviews  \n",
       "0                 69  \n",
       "1               1387  \n",
       "2                690  \n",
       "3                744  \n",
       "4               9055  "
      ]
     },
     "execution_count": 440,
     "metadata": {},
     "output_type": "execute_result"
    }
   ],
   "source": [
    "#let's adjust our dataframe by host_neighborhood to see how averaeg price / ratings stack up\n",
    "#consulted: https://jamesrledoux.com/code/group-by-aggregate-pandas\n",
    "top_neighborhoods = neighborhoods.groupby('neighbourhood_cleansed').agg({'price': 'mean', 'review_scores_rating': 'mean', 'number_of_reviews': 'sum'}).sort_values(by=['review_scores_rating'], ascending=False)\n",
    "top_neighborhoods = top_neighborhoods.reset_index()\n",
    "top_neighborhoods.head()"
   ]
  },
  {
   "cell_type": "code",
   "execution_count": 441,
   "metadata": {},
   "outputs": [
    {
     "data": {
      "text/html": [
       "<div>\n",
       "<style scoped>\n",
       "    .dataframe tbody tr th:only-of-type {\n",
       "        vertical-align: middle;\n",
       "    }\n",
       "\n",
       "    .dataframe tbody tr th {\n",
       "        vertical-align: top;\n",
       "    }\n",
       "\n",
       "    .dataframe thead th {\n",
       "        text-align: right;\n",
       "    }\n",
       "</style>\n",
       "<table border=\"1\" class=\"dataframe\">\n",
       "  <thead>\n",
       "    <tr style=\"text-align: right;\">\n",
       "      <th></th>\n",
       "      <th>average_price</th>\n",
       "      <th>average_rating</th>\n",
       "      <th>total_reviews</th>\n",
       "    </tr>\n",
       "    <tr>\n",
       "      <th>neighbourhood_cleansed</th>\n",
       "      <th></th>\n",
       "      <th></th>\n",
       "      <th></th>\n",
       "    </tr>\n",
       "  </thead>\n",
       "  <tbody>\n",
       "    <tr>\n",
       "      <th>Roslindale</th>\n",
       "      <td>98.428571</td>\n",
       "      <td>95.380000</td>\n",
       "      <td>1387</td>\n",
       "    </tr>\n",
       "    <tr>\n",
       "      <th>West Roxbury</th>\n",
       "      <td>107.108696</td>\n",
       "      <td>95.212121</td>\n",
       "      <td>690</td>\n",
       "    </tr>\n",
       "    <tr>\n",
       "      <th>South Boston Waterfront</th>\n",
       "      <td>306.060241</td>\n",
       "      <td>94.431034</td>\n",
       "      <td>744</td>\n",
       "    </tr>\n",
       "    <tr>\n",
       "      <th>Jamaica Plain</th>\n",
       "      <td>138.478134</td>\n",
       "      <td>94.159322</td>\n",
       "      <td>9055</td>\n",
       "    </tr>\n",
       "    <tr>\n",
       "      <th>Longwood Medical Area</th>\n",
       "      <td>138.444444</td>\n",
       "      <td>94.000000</td>\n",
       "      <td>393</td>\n",
       "    </tr>\n",
       "    <tr>\n",
       "      <th>South Boston</th>\n",
       "      <td>187.609195</td>\n",
       "      <td>93.980392</td>\n",
       "      <td>3851</td>\n",
       "    </tr>\n",
       "    <tr>\n",
       "      <th>North End</th>\n",
       "      <td>195.678322</td>\n",
       "      <td>93.725000</td>\n",
       "      <td>4483</td>\n",
       "    </tr>\n",
       "    <tr>\n",
       "      <th>Charlestown</th>\n",
       "      <td>198.045045</td>\n",
       "      <td>93.697368</td>\n",
       "      <td>1981</td>\n",
       "    </tr>\n",
       "    <tr>\n",
       "      <th>Beacon Hill</th>\n",
       "      <td>224.443299</td>\n",
       "      <td>93.378698</td>\n",
       "      <td>4098</td>\n",
       "    </tr>\n",
       "    <tr>\n",
       "      <th>South End</th>\n",
       "      <td>204.349693</td>\n",
       "      <td>93.264925</td>\n",
       "      <td>5714</td>\n",
       "    </tr>\n",
       "  </tbody>\n",
       "</table>\n",
       "</div>"
      ],
      "text/plain": [
       "                         average_price  average_rating  total_reviews\n",
       "neighbourhood_cleansed                                               \n",
       "Roslindale                   98.428571       95.380000           1387\n",
       "West Roxbury                107.108696       95.212121            690\n",
       "South Boston Waterfront     306.060241       94.431034            744\n",
       "Jamaica Plain               138.478134       94.159322           9055\n",
       "Longwood Medical Area       138.444444       94.000000            393\n",
       "South Boston                187.609195       93.980392           3851\n",
       "North End                   195.678322       93.725000           4483\n",
       "Charlestown                 198.045045       93.697368           1981\n",
       "Beacon Hill                 224.443299       93.378698           4098\n",
       "South End                   204.349693       93.264925           5714"
      ]
     },
     "execution_count": 441,
     "metadata": {},
     "output_type": "execute_result"
    }
   ],
   "source": [
    "#Let's ditch the the host neighbourhoods that aren't over the 100 threshold and rename the columns to mak\n",
    "top_neighborhoods_cleaned = top_neighborhoods[top_neighborhoods['number_of_reviews']>=100]\n",
    "top_neighborhoods_cleaned = top_neighborhoods_cleaned.sort_values(by=['review_scores_rating'], ascending=False).head(10)\n",
    "top_neighborhoods_cleaned = top_neighborhoods_cleaned.set_index('neighbourhood_cleansed')\n",
    "top_neighborhoods_cleaned = top_neighborhoods_cleaned.rename(columns={\"price\": \"average_price\", \"review_scores_rating\": \"average_rating\", \"number_of_reviews\": \"total_reviews\"})\n",
    "top_neighborhoods_cleaned"
   ]
  },
  {
   "cell_type": "code",
   "execution_count": 442,
   "metadata": {},
   "outputs": [
    {
     "data": {
      "image/png": "[encoded data removed]",
      "text/plain": [
       "<Figure size 1080x360 with 2 Axes>"
      ]
     },
     "metadata": {
      "needs_background": "light"
     },
     "output_type": "display_data"
    }
   ],
   "source": [
    "#let's make the visual for our blog post\n",
    "top_neighborhoods_cleaned_chart = top_neighborhoods_cleaned.drop(columns=['total_reviews'])\n",
    "\n",
    "base_color = sns.color_palette()[0]\n",
    "ax = top_neighborhoods_cleaned_chart.plot(kind='bar', secondary_y='average_rating', figsize = (15,5))\n",
    "ax.right_ax.set_ylim(90,100)\n",
    "\n",
    "plt.title('Average Price and Rating by Neighborhood (Sorted by Highest Average Rating)')\n",
    "ax.set_xlabel('Host Neighborhood')\n",
    "ax.right_ax.set_ylabel('Average Rating Per Lodging')\n",
    "ax.set_ylabel('Average Price Per Night')\n",
    "plt.show()\n"
   ]
  },
  {
   "cell_type": "markdown",
   "metadata": {},
   "source": [
    "###  Question 1 conclusion: If I were staying in Boston I would definitely try to find a place in West Roxbury or Roslindale to get the most value for price !!!"
   ]
  },
  {
   "cell_type": "markdown",
   "metadata": {},
   "source": [
    "### Second Question:  What factors impact price per lodging??"
   ]
  },
  {
   "cell_type": "code",
   "execution_count": 443,
   "metadata": {},
   "outputs": [],
   "source": [
    "#Because I am OCD let's create another DF Copy...\n",
    "listings_3 = listings.copy()"
   ]
  },
  {
   "cell_type": "code",
   "execution_count": 444,
   "metadata": {},
   "outputs": [],
   "source": [
    "#Right off the bat we know that we need to clean up the price column...\n",
    "clean_price_column(listings_3)"
   ]
  },
  {
   "cell_type": "code",
   "execution_count": 445,
   "metadata": {},
   "outputs": [
    {
     "data": {
      "text/plain": [
       "Index(['id', 'listing_url', 'scrape_id', 'last_scraped', 'name', 'summary',\n",
       "       'space', 'description', 'experiences_offered', 'neighborhood_overview',\n",
       "       'notes', 'transit', 'access', 'interaction', 'house_rules',\n",
       "       'thumbnail_url', 'medium_url', 'picture_url', 'xl_picture_url',\n",
       "       'host_id', 'host_url', 'host_name', 'host_since', 'host_location',\n",
       "       'host_about', 'host_response_time', 'host_response_rate',\n",
       "       'host_acceptance_rate', 'host_is_superhost', 'host_thumbnail_url',\n",
       "       'host_picture_url', 'host_neighbourhood', 'host_listings_count',\n",
       "       'host_total_listings_count', 'host_verifications',\n",
       "       'host_has_profile_pic', 'host_identity_verified', 'street',\n",
       "       'neighbourhood', 'neighbourhood_cleansed',\n",
       "       'neighbourhood_group_cleansed', 'city', 'state', 'zipcode', 'market',\n",
       "       'smart_location', 'country_code', 'country', 'latitude', 'longitude',\n",
       "       'is_location_exact', 'property_type', 'room_type', 'accommodates',\n",
       "       'bathrooms', 'bedrooms', 'beds', 'bed_type', 'amenities', 'square_feet',\n",
       "       'price', 'weekly_price', 'monthly_price', 'security_deposit',\n",
       "       'cleaning_fee', 'guests_included', 'extra_people', 'minimum_nights',\n",
       "       'maximum_nights', 'calendar_updated', 'has_availability',\n",
       "       'availability_30', 'availability_60', 'availability_90',\n",
       "       'availability_365', 'calendar_last_scraped', 'number_of_reviews',\n",
       "       'first_review', 'last_review', 'review_scores_rating',\n",
       "       'review_scores_accuracy', 'review_scores_cleanliness',\n",
       "       'review_scores_checkin', 'review_scores_communication',\n",
       "       'review_scores_location', 'review_scores_value', 'requires_license',\n",
       "       'license', 'jurisdiction_names', 'instant_bookable',\n",
       "       'cancellation_policy', 'require_guest_profile_picture',\n",
       "       'require_guest_phone_verification', 'calculated_host_listings_count',\n",
       "       'reviews_per_month'],\n",
       "      dtype='object')"
      ]
     },
     "execution_count": 445,
     "metadata": {},
     "output_type": "execute_result"
    }
   ],
   "source": [
    "#looking at columns that we can drop....\n",
    "\n",
    "listings_3.columns"
   ]
  },
  {
   "cell_type": "code",
   "execution_count": 446,
   "metadata": {},
   "outputs": [
    {
     "data": {
      "text/plain": [
       "count    2772.000000\n",
       "mean       91.916667\n",
       "std         9.531686\n",
       "min        20.000000\n",
       "25%        89.000000\n",
       "50%        94.000000\n",
       "75%        98.250000\n",
       "max       100.000000\n",
       "Name: review_scores_rating, dtype: float64"
      ]
     },
     "execution_count": 446,
     "metadata": {},
     "output_type": "execute_result"
    }
   ],
   "source": [
    "listings_3.review_scores_rating.describe()"
   ]
  },
  {
   "cell_type": "code",
   "execution_count": 447,
   "metadata": {},
   "outputs": [],
   "source": [
    "def clean_data_for_linear_model(df, response_col, test_size=.3, rand_state=42): \n",
    "    \"\"\" INPUT: \n",
    "        pandas dataframe\n",
    "   \n",
    "        OUTPUT:\n",
    "        X - A matrix holding all of the variables you want to consider when predicting the response\n",
    "        y - the corresponding response vector\n",
    "        test_score - float - r2 score on the test data\n",
    "        train_score - float - r2 score on the test data\n",
    "        lm_model - model object from sklearn\n",
    "        X_train, X_test, y_train, y_test - output from sklearn train test split used for optimal model\n",
    "        \n",
    "        Perform to obtain the correct X and y objects\n",
    "        This function cleans df using the following steps to produce X and y:\n",
    "        \n",
    "        1. Drop all the rows with no price information\n",
    "        2. Create price as the y object\n",
    "        3. Drop irrelevant columns \n",
    "        4. For each numeric variable in X, fill the column with the mean value of the column.\n",
    "        5. Create dummy columns for all the categorical variables in X, drop the original columns\n",
    "        6. split X and Y into test and train variables\n",
    "        7. instantiate the linear regression\n",
    "        8. fit the model\n",
    "        \n",
    "        \n",
    "    \"\"\"\n",
    "    \n",
    "    #drop NANs from price and reviwes column\n",
    "    df = df.dropna(subset=['price'], axis=0)\n",
    "    df = df.dropna(subset=['review_scores_rating'], axis=0)\n",
    "    #dropping irrelevant columns, that are about the host, only have one entry, or are all null\n",
    "    df = df.drop(['id', 'listing_url', 'scrape_id', 'last_scraped', 'host_url', 'country', 'host_picture_url', 'city', 'market', 'country_code', 'zipcode', 'thumbnail_url', 'medium_url', 'picture_url', 'xl_picture_url', 'smart_location', 'latitude', 'longitude', 'weekly_price', 'monthly_price', 'neighbourhood_group_cleansed', 'host_neighbourhood', 'host_id', 'host_name', 'host_since', 'host_location', 'host_about', 'host_listings_count', 'state', 'host_total_listings_count', 'host_verifications', 'host_has_profile_pic', 'host_identity_verified', 'street', 'neighbourhood',], axis=1)\n",
    "    #also get rid of the obviously text columns since I won't be doing any text evaluations(I'm still learning how to do that) as well as other not relevant columns \n",
    "    df = df.drop(['name', 'summary', 'space', 'description', 'experiences_offered', 'neighborhood_overview', 'notes', 'host_thumbnail_url', 'transit', 'access', 'interaction', 'house_rules', 'last_review', 'amenities', 'first_review', 'last_review', 'calendar_updated', 'cleaning_fee', 'extra_people'], axis=1)\n",
    "    #double check that columns with a majority of null data are excluded\n",
    "    #shoutout: https://stackoverflow.com/questions/49791246/drop-columns-with-more-than-60-percent-of-empty-values-in-pandas\n",
    "    df = df.dropna(thresh=df.shape[0]*0.5,how='all',axis=1)\n",
    "    \n",
    "    \n",
    "    #fill mean for numerical variables in X\n",
    "    num_vars = df.select_dtypes(include=['float', 'int']).columns\n",
    "    for col in num_vars:\n",
    "        df[col].fillna((df[col].mean()), inplace=True)\n",
    "    #create the dummy columns for categorical variables in X and drop the original columns\n",
    "    cat_vars = df.select_dtypes(include=['object']).copy().columns\n",
    "    for var in cat_vars:\n",
    "        df = pd.concat([df.drop(var, axis=1), pd.get_dummies(df[var], prefix=var, prefix_sep='_', drop_first=True)], axis=1)\n",
    "\n",
    "    #create response col as the y object\n",
    "    y = df[response_col]\n",
    "    #Set new df = to X matrix\n",
    "    X = df.drop(response_col, axis=1)\n",
    "    \n",
    "    \n",
    "    #Split into train and test\n",
    "    X_train, X_test, y_train, y_test = train_test_split(X, y, test_size= test_size, random_state=rand_state)\n",
    "    #Instantiate \n",
    "    lm_model = LinearRegression(normalize=True)\n",
    "    #fit lines\n",
    "    lm_model.fit(X_train, y_train)\n",
    "    \n",
    "    #predict\n",
    "    #y_test_preds = lm.fit(X_test)\n",
    "    #y_train_preds = lm.fit(X_train)\n",
    "    \n",
    "    #Score using your model\n",
    "    #test_score = r2_score(y_test, y_test_preds)\n",
    "    #train_score = r2_score(y_train, y_train_preds)\n",
    "    \n",
    "    return X, y, lm_model, X_train, X_test, y_train, y_test, df\n",
    "    \n",
    "\n",
    "X, y, lm_model, X_train, X_test, y_train, y_test, df = clean_data_for_linear_model(listings_3, 'price', test_size=.3, rand_state=42)\n"
   ]
  },
  {
   "cell_type": "code",
   "execution_count": 448,
   "metadata": {},
   "outputs": [
    {
     "name": "stdout",
     "output_type": "stream",
     "text": [
      "<class 'pandas.core.frame.DataFrame'>\n",
      "Int64Index: 2772 entries, 1 to 3583\n",
      "Columns: 188 entries, accommodates to require_guest_phone_verification_t\n",
      "dtypes: float64(12), int64(10), uint8(166)\n",
      "memory usage: 947.5 KB\n"
     ]
    }
   ],
   "source": [
    "df.info()"
   ]
  },
  {
   "cell_type": "code",
   "execution_count": 449,
   "metadata": {},
   "outputs": [],
   "source": [
    "#now let's see which variables have the highest coefficents...\n",
    "\n",
    "def get_coefs_for_linear_model(coefficients, train_data):\n",
    "    \n",
    "    \"\"\"INPUT:\n",
    "    coefficients - the coefficients of the linear model \n",
    "    X_train - the training data, so the column names can be used\n",
    "    OUTPUT:\n",
    "    coefs_df - a dataframe holding the coefficient, estimate, and abs(estimate)\n",
    "    \n",
    "    Provides a dataframe that can be used to understand the most influential coefficients\n",
    "    in a linear model by providing the coefficient estimates along with the name of the \n",
    "    variable attached to the coefficient.\n",
    "    \"\"\"\n",
    "    \n",
    "    coefs_df = pd.DataFrame()\n",
    "    coefs_df['variable'] = train_data.columns\n",
    "    coefs_df['coefficient'] = lm_model.coef_\n",
    "    coefs_df = coefs_df.sort_values('coefficient', ascending=False).set_index('variable')\n",
    "    return coefs_df\n",
    "    \n",
    "coefs_df = get_coefs_for_linear_model(lm_model.coef_, X_train)"
   ]
  },
  {
   "cell_type": "code",
   "execution_count": 450,
   "metadata": {},
   "outputs": [
    {
     "data": {
      "text/html": [
       "<div>\n",
       "<style scoped>\n",
       "    .dataframe tbody tr th:only-of-type {\n",
       "        vertical-align: middle;\n",
       "    }\n",
       "\n",
       "    .dataframe tbody tr th {\n",
       "        vertical-align: top;\n",
       "    }\n",
       "\n",
       "    .dataframe thead th {\n",
       "        text-align: right;\n",
       "    }\n",
       "</style>\n",
       "<table border=\"1\" class=\"dataframe\">\n",
       "  <thead>\n",
       "    <tr style=\"text-align: right;\">\n",
       "      <th></th>\n",
       "      <th>coefficient</th>\n",
       "    </tr>\n",
       "    <tr>\n",
       "      <th>variable</th>\n",
       "      <th></th>\n",
       "    </tr>\n",
       "  </thead>\n",
       "  <tbody>\n",
       "    <tr>\n",
       "      <th>host_acceptance_rate_47%</th>\n",
       "      <td>9.804171e+15</td>\n",
       "    </tr>\n",
       "    <tr>\n",
       "      <th>host_acceptance_rate_40%</th>\n",
       "      <td>2.901699e+15</td>\n",
       "    </tr>\n",
       "    <tr>\n",
       "      <th>host_response_time_within a few hours</th>\n",
       "      <td>6.731641e+14</td>\n",
       "    </tr>\n",
       "    <tr>\n",
       "      <th>host_response_time_within an hour</th>\n",
       "      <td>6.731641e+14</td>\n",
       "    </tr>\n",
       "    <tr>\n",
       "      <th>host_response_time_within a day</th>\n",
       "      <td>6.731641e+14</td>\n",
       "    </tr>\n",
       "    <tr>\n",
       "      <th>host_acceptance_rate_30%</th>\n",
       "      <td>1.018191e+02</td>\n",
       "    </tr>\n",
       "    <tr>\n",
       "      <th>neighbourhood_cleansed_South Boston Waterfront</th>\n",
       "      <td>1.012728e+02</td>\n",
       "    </tr>\n",
       "    <tr>\n",
       "      <th>neighbourhood_cleansed_Back Bay</th>\n",
       "      <td>9.829997e+01</td>\n",
       "    </tr>\n",
       "    <tr>\n",
       "      <th>neighbourhood_cleansed_Beacon Hill</th>\n",
       "      <td>9.263269e+01</td>\n",
       "    </tr>\n",
       "    <tr>\n",
       "      <th>neighbourhood_cleansed_Downtown</th>\n",
       "      <td>7.519886e+01</td>\n",
       "    </tr>\n",
       "  </tbody>\n",
       "</table>\n",
       "</div>"
      ],
      "text/plain": [
       "                                                 coefficient\n",
       "variable                                                    \n",
       "host_acceptance_rate_47%                        9.804171e+15\n",
       "host_acceptance_rate_40%                        2.901699e+15\n",
       "host_response_time_within a few hours           6.731641e+14\n",
       "host_response_time_within an hour               6.731641e+14\n",
       "host_response_time_within a day                 6.731641e+14\n",
       "host_acceptance_rate_30%                        1.018191e+02\n",
       "neighbourhood_cleansed_South Boston Waterfront  1.012728e+02\n",
       "neighbourhood_cleansed_Back Bay                 9.829997e+01\n",
       "neighbourhood_cleansed_Beacon Hill              9.263269e+01\n",
       "neighbourhood_cleansed_Downtown                 7.519886e+01"
      ]
     },
     "execution_count": 450,
     "metadata": {},
     "output_type": "execute_result"
    }
   ],
   "source": [
    "coefs_df.head(10)"
   ]
  },
  {
   "cell_type": "markdown",
   "metadata": {},
   "source": [
    "### What factors impact rating on lodgings?"
   ]
  },
  {
   "cell_type": "code",
   "execution_count": 454,
   "metadata": {},
   "outputs": [],
   "source": [
    "#create variables and lm for review_scores_rating\n",
    "X_2, y_2, lm_model_2, X_train_2, X_test_2, y_train_2, y_test_2, df_2 = clean_data_for_linear_model(listings_3, 'review_scores_rating', test_size=.3, rand_state=42)\n"
   ]
  },
  {
   "cell_type": "code",
   "execution_count": 452,
   "metadata": {},
   "outputs": [],
   "source": [
    "#create df for coefficients for new lm\n",
    "coefs_df_2 = get_coefs_for_linear_model(lm_model_2.coef_, X_train_2)"
   ]
  },
  {
   "cell_type": "code",
   "execution_count": 455,
   "metadata": {},
   "outputs": [
    {
     "data": {
      "text/html": [
       "<div>\n",
       "<style scoped>\n",
       "    .dataframe tbody tr th:only-of-type {\n",
       "        vertical-align: middle;\n",
       "    }\n",
       "\n",
       "    .dataframe tbody tr th {\n",
       "        vertical-align: top;\n",
       "    }\n",
       "\n",
       "    .dataframe thead th {\n",
       "        text-align: right;\n",
       "    }\n",
       "</style>\n",
       "<table border=\"1\" class=\"dataframe\">\n",
       "  <thead>\n",
       "    <tr style=\"text-align: right;\">\n",
       "      <th></th>\n",
       "      <th>coefficient</th>\n",
       "    </tr>\n",
       "    <tr>\n",
       "      <th>variable</th>\n",
       "      <th></th>\n",
       "    </tr>\n",
       "  </thead>\n",
       "  <tbody>\n",
       "    <tr>\n",
       "      <th>host_acceptance_rate_47%</th>\n",
       "      <td>9.804171e+15</td>\n",
       "    </tr>\n",
       "    <tr>\n",
       "      <th>host_acceptance_rate_40%</th>\n",
       "      <td>2.901699e+15</td>\n",
       "    </tr>\n",
       "    <tr>\n",
       "      <th>host_response_time_within a few hours</th>\n",
       "      <td>6.731641e+14</td>\n",
       "    </tr>\n",
       "    <tr>\n",
       "      <th>host_response_time_within an hour</th>\n",
       "      <td>6.731641e+14</td>\n",
       "    </tr>\n",
       "    <tr>\n",
       "      <th>host_response_time_within a day</th>\n",
       "      <td>6.731641e+14</td>\n",
       "    </tr>\n",
       "    <tr>\n",
       "      <th>host_acceptance_rate_30%</th>\n",
       "      <td>1.018191e+02</td>\n",
       "    </tr>\n",
       "    <tr>\n",
       "      <th>neighbourhood_cleansed_South Boston Waterfront</th>\n",
       "      <td>1.012728e+02</td>\n",
       "    </tr>\n",
       "    <tr>\n",
       "      <th>neighbourhood_cleansed_Back Bay</th>\n",
       "      <td>9.829997e+01</td>\n",
       "    </tr>\n",
       "    <tr>\n",
       "      <th>neighbourhood_cleansed_Beacon Hill</th>\n",
       "      <td>9.263269e+01</td>\n",
       "    </tr>\n",
       "    <tr>\n",
       "      <th>neighbourhood_cleansed_Downtown</th>\n",
       "      <td>7.519886e+01</td>\n",
       "    </tr>\n",
       "  </tbody>\n",
       "</table>\n",
       "</div>"
      ],
      "text/plain": [
       "                                                 coefficient\n",
       "variable                                                    \n",
       "host_acceptance_rate_47%                        9.804171e+15\n",
       "host_acceptance_rate_40%                        2.901699e+15\n",
       "host_response_time_within a few hours           6.731641e+14\n",
       "host_response_time_within an hour               6.731641e+14\n",
       "host_response_time_within a day                 6.731641e+14\n",
       "host_acceptance_rate_30%                        1.018191e+02\n",
       "neighbourhood_cleansed_South Boston Waterfront  1.012728e+02\n",
       "neighbourhood_cleansed_Back Bay                 9.829997e+01\n",
       "neighbourhood_cleansed_Beacon Hill              9.263269e+01\n",
       "neighbourhood_cleansed_Downtown                 7.519886e+01"
      ]
     },
     "execution_count": 455,
     "metadata": {},
     "output_type": "execute_result"
    }
   ],
   "source": [
    "coefs_df_2.head(10)"
   ]
  },
  {
   "cell_type": "code",
   "execution_count": null,
   "metadata": {},
   "outputs": [],
   "source": []
  }
 ],
 "metadata": {
  "kernelspec": {
   "display_name": "Python 3",
   "language": "python",
   "name": "python3"
  },
  "language_info": {
   "codemirror_mode": {
    "name": "ipython",
    "version": 3
   },
   "file_extension": ".py",
   "mimetype": "text/x-python",
   "name": "python",
   "nbconvert_exporter": "python",
   "pygments_lexer": "ipython3",
   "version": "3.8.5"
  }
 },
 "nbformat": 4,
 "nbformat_minor": 4
}
